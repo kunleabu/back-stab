{
 "cells": [
  {
   "cell_type": "code",
   "execution_count": null,
   "id": "e1c261ca",
   "metadata": {},
   "outputs": [],
   "source": [
    "worldZoneDict = {zone1:{country1:{city:ti, city:t2...cityn:tn}}}\n",
    "zonesList = []\n",
    "cityList = []\n",
    "offsetTimeList = []\n",
    "\n",
    "for z, t in zip (cityList, tList):\n",
    "    zone = z\n",
    "    time = t\n",
    "    if '/' not in zone:\n",
    "        city = zone\n",
    "        cityList.append(city)\n",
    "        tList.append(time)\n",
    "        zonesList.append(zone)\n",
    "    elif '/' in zone:\n",
    "        city = zone.split('/')[-1]\n",
    "        cityList.append(city)\n",
    "        tList.append(time)\n",
    "        if zone.count('/')==1:\n",
    "            zonesList.append(zone.split('/')[0])\n",
    "        if zone.count('/') > 1:\n",
    "            zonesList.append(zone.split('/')[1])\n",
    "        else:\n",
    "            "
   ]
  }
 ],
 "metadata": {
  "kernelspec": {
   "display_name": "Python 3 (ipykernel)",
   "language": "python",
   "name": "python3"
  },
  "language_info": {
   "codemirror_mode": {
    "name": "ipython",
    "version": 3
   },
   "file_extension": ".py",
   "mimetype": "text/x-python",
   "name": "python",
   "nbconvert_exporter": "python",
   "pygments_lexer": "ipython3",
   "version": "3.9.7"
  }
 },
 "nbformat": 4,
 "nbformat_minor": 5
}
